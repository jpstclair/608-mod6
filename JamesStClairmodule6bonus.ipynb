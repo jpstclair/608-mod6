{
 "cells": [
  {
   "cell_type": "markdown",
   "id": "3ad0121f-279c-435a-bb19-900d82e4d03b",
   "metadata": {},
   "source": [
    "### Bonus for Module 6"
   ]
  },
  {
   "cell_type": "code",
   "execution_count": 18,
   "id": "94adc33c-9777-4202-bf10-689f40ec6d66",
   "metadata": {},
   "outputs": [],
   "source": [
    "import pandas as pd\n",
    "JamesStClair = 'Working on the module 6 bonus'\n"
   ]
  },
  {
   "cell_type": "code",
   "execution_count": 11,
   "id": "d78ff92a-a74e-4e6f-906e-3c2799f784cb",
   "metadata": {},
   "outputs": [],
   "source": [
    "videogame = pd.read_csv(\"videogames.csv\", sep=\";\")\n",
    "\n",
    "pd.set_option('display.precision', 2)"
   ]
  },
  {
   "cell_type": "code",
   "execution_count": 12,
   "id": "440c4276-247e-489c-831c-bf06d3541afb",
   "metadata": {},
   "outputs": [
    {
     "name": "stdout",
     "output_type": "stream",
     "text": [
      "                          title  date rating         platform  \\\n",
      "0               Final Fantasy 7  1997      T              PS1   \n",
      "1        Final Fantasy 7 Remake  2020      T       PS4/PS5/PC   \n",
      "2  Call of Duty: Modern Warfare  2019      M      PS4/XboxOne   \n",
      "3               Civilization VI  2016      E              PS4   \n",
      "4       Pokemon Legends: Arceus  2022      E  Nintendo Switch   \n",
      "\n",
      "                  genre   cost  \n",
      "0          Fantasy JRPG  12.99  \n",
      "1          Fantasy JRPG  29.99  \n",
      "2  First Person Shooter  32.99  \n",
      "3              Strategy  15.99  \n",
      "4            Action RPG  49.99  \n",
      "                                  title  date rating         platform  \\\n",
      "10                           Wii Sports  2006      E              Wii   \n",
      "11           Super Smash Bros. Ultimate  2018      E  Nintendo Switch   \n",
      "12             Cabela's Dangerous Hunts  2003      T         PS2/Xbox   \n",
      "13  Cabela's Big Game Hunter: Pro Hunts  2014      T              PS3   \n",
      "14                            Minecraft  2011      E  PS4/Xbox 360/PC   \n",
      "\n",
      "                genre   cost  \n",
      "10  Sports Simulation  32.99  \n",
      "11      Fighting Game  54.99  \n",
      "12       Hunting Game   9.99  \n",
      "13       Hunting Game  15.99  \n",
      "14       Sandbox Game  19.99  \n"
     ]
    }
   ],
   "source": [
    "print(videogame.head())\n",
    "print(videogame.tail())"
   ]
  },
  {
   "cell_type": "code",
   "execution_count": 14,
   "id": "64d628ba-a208-48ab-b866-aa684b39b005",
   "metadata": {},
   "outputs": [
    {
     "name": "stdout",
     "output_type": "stream",
     "text": [
      "                          Title  Release Date Rating         Platform  \\\n",
      "0               Final Fantasy 7          1997      T              PS1   \n",
      "1        Final Fantasy 7 Remake          2020      T       PS4/PS5/PC   \n",
      "2  Call of Duty: Modern Warfare          2019      M      PS4/XboxOne   \n",
      "3               Civilization VI          2016      E              PS4   \n",
      "4       Pokemon Legends: Arceus          2022      E  Nintendo Switch   \n",
      "\n",
      "                  Genre   Cost  \n",
      "0          Fantasy JRPG  12.99  \n",
      "1          Fantasy JRPG  29.99  \n",
      "2  First Person Shooter  32.99  \n",
      "3              Strategy  15.99  \n",
      "4            Action RPG  49.99  \n",
      "       Release Date   Cost\n",
      "count         15.00  15.00\n",
      "mean        2013.40  27.72\n",
      "std            6.96  13.62\n",
      "min         1997.00   9.99\n",
      "25%         2010.00  15.99\n",
      "50%         2016.00  29.99\n",
      "75%         2018.00  33.99\n",
      "max         2022.00  54.99\n"
     ]
    }
   ],
   "source": [
    "videogame.columns = ['Title', 'Release Date', 'Rating', 'Platform', 'Genre', 'Cost']\n",
    "print(videogame.head())\n",
    "print(videogame.describe())"
   ]
  },
  {
   "cell_type": "code",
   "execution_count": 15,
   "id": "028a6000-f47f-4111-93d1-87ac1f412a8d",
   "metadata": {},
   "outputs": [
    {
     "data": {
      "image/png": "[encoded data removed]",
      "text/plain": [
       "<Figure size 640x480 with 2 Axes>"
      ]
     },
     "metadata": {},
     "output_type": "display_data"
    }
   ],
   "source": [
    "import matplotlib\n",
    "\n",
    "histogram = videogame.hist()"
   ]
  },
  {
   "cell_type": "code",
   "execution_count": 19,
   "id": "771bff80-27cb-4012-b46f-1527c17a19cf",
   "metadata": {},
   "outputs": [
    {
     "data": {
      "text/plain": [
       "'Working on the module 6 bonus'"
      ]
     },
     "execution_count": 19,
     "metadata": {},
     "output_type": "execute_result"
    }
   ],
   "source": [
    "JamesStClair"
   ]
  },
  {
   "cell_type": "code",
   "execution_count": null,
   "id": "87df0c37-2d44-453e-b4fe-3d0b520b4bde",
   "metadata": {},
   "outputs": [],
   "source": []
  }
 ],
 "metadata": {
  "kernelspec": {
   "display_name": "Python 3 (ipykernel)",
   "language": "python",
   "name": "python3"
  },
  "language_info": {
   "codemirror_mode": {
    "name": "ipython",
    "version": 3
   },
   "file_extension": ".py",
   "mimetype": "text/x-python",
   "name": "python",
   "nbconvert_exporter": "python",
   "pygments_lexer": "ipython3",
   "version": "3.9.12"
  }
 },
 "nbformat": 4,
 "nbformat_minor": 5
}
